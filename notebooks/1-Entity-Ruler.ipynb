{
 "cells": [
  {
   "cell_type": "code",
   "execution_count": 2,
   "id": "0a9fb80d-5e26-4a5d-aee1-2bbd319f518e",
   "metadata": {},
   "outputs": [],
   "source": [
    "import spacy"
   ]
  },
  {
   "cell_type": "code",
   "execution_count": 5,
   "id": "3b9332d0-8d60-4947-922f-1bda9cc90d75",
   "metadata": {},
   "outputs": [],
   "source": [
    "# !pip install spacy"
   ]
  },
  {
   "cell_type": "code",
   "execution_count": 4,
   "id": "579e7c2a-66d3-49ad-b910-760d74a50f29",
   "metadata": {
    "scrolled": true
   },
   "outputs": [
    {
     "name": "stdout",
     "output_type": "stream",
     "text": [
      "Collecting en-core-web-sm==3.6.0\n",
      "  Downloading https://github.com/explosion/spacy-models/releases/download/en_core_web_sm-3.6.0/en_core_web_sm-3.6.0-py3-none-any.whl (12.8 MB)\n",
      "\u001b[2K     \u001b[38;2;114;156;31m━━━━━━━━━━━━━━━━━━━━━━━━━━━━━━━━━━━━━━━\u001b[0m \u001b[32m12.8/12.8 MB\u001b[0m \u001b[31m966.5 kB/s\u001b[0m eta \u001b[36m0:00:00\u001b[0mm eta \u001b[36m0:00:01\u001b[0m[36m0:00:01\u001b[0m\n",
      "\u001b[?25hRequirement already satisfied: spacy<3.7.0,>=3.6.0 in /home/lyle/tutorial/text-analysis/venv/lib/python3.10/site-packages (from en-core-web-sm==3.6.0) (3.6.1)\n",
      "Requirement already satisfied: spacy-loggers<2.0.0,>=1.0.0 in /home/lyle/tutorial/text-analysis/venv/lib/python3.10/site-packages (from spacy<3.7.0,>=3.6.0->en-core-web-sm==3.6.0) (1.0.5)\n",
      "Requirement already satisfied: langcodes<4.0.0,>=3.2.0 in /home/lyle/tutorial/text-analysis/venv/lib/python3.10/site-packages (from spacy<3.7.0,>=3.6.0->en-core-web-sm==3.6.0) (3.3.0)\n",
      "Requirement already satisfied: packaging>=20.0 in /home/lyle/tutorial/text-analysis/venv/lib/python3.10/site-packages (from spacy<3.7.0,>=3.6.0->en-core-web-sm==3.6.0) (23.1)\n",
      "Requirement already satisfied: requests<3.0.0,>=2.13.0 in /home/lyle/tutorial/text-analysis/venv/lib/python3.10/site-packages (from spacy<3.7.0,>=3.6.0->en-core-web-sm==3.6.0) (2.31.0)\n",
      "Requirement already satisfied: smart-open<7.0.0,>=5.2.1 in /home/lyle/tutorial/text-analysis/venv/lib/python3.10/site-packages (from spacy<3.7.0,>=3.6.0->en-core-web-sm==3.6.0) (6.4.0)\n",
      "Requirement already satisfied: preshed<3.1.0,>=3.0.2 in /home/lyle/tutorial/text-analysis/venv/lib/python3.10/site-packages (from spacy<3.7.0,>=3.6.0->en-core-web-sm==3.6.0) (3.0.9)\n",
      "Requirement already satisfied: pydantic!=1.8,!=1.8.1,<3.0.0,>=1.7.4 in /home/lyle/tutorial/text-analysis/venv/lib/python3.10/site-packages (from spacy<3.7.0,>=3.6.0->en-core-web-sm==3.6.0) (2.3.0)\n",
      "Requirement already satisfied: pathy>=0.10.0 in /home/lyle/tutorial/text-analysis/venv/lib/python3.10/site-packages (from spacy<3.7.0,>=3.6.0->en-core-web-sm==3.6.0) (0.10.2)\n",
      "Requirement already satisfied: srsly<3.0.0,>=2.4.3 in /home/lyle/tutorial/text-analysis/venv/lib/python3.10/site-packages (from spacy<3.7.0,>=3.6.0->en-core-web-sm==3.6.0) (2.4.7)\n",
      "Requirement already satisfied: jinja2 in /home/lyle/tutorial/text-analysis/venv/lib/python3.10/site-packages (from spacy<3.7.0,>=3.6.0->en-core-web-sm==3.6.0) (3.1.2)\n",
      "Requirement already satisfied: wasabi<1.2.0,>=0.9.1 in /home/lyle/tutorial/text-analysis/venv/lib/python3.10/site-packages (from spacy<3.7.0,>=3.6.0->en-core-web-sm==3.6.0) (1.1.2)\n",
      "Requirement already satisfied: numpy>=1.15.0 in /home/lyle/tutorial/text-analysis/venv/lib/python3.10/site-packages (from spacy<3.7.0,>=3.6.0->en-core-web-sm==3.6.0) (1.26.0)\n",
      "Requirement already satisfied: catalogue<2.1.0,>=2.0.6 in /home/lyle/tutorial/text-analysis/venv/lib/python3.10/site-packages (from spacy<3.7.0,>=3.6.0->en-core-web-sm==3.6.0) (2.0.9)\n",
      "Requirement already satisfied: cymem<2.1.0,>=2.0.2 in /home/lyle/tutorial/text-analysis/venv/lib/python3.10/site-packages (from spacy<3.7.0,>=3.6.0->en-core-web-sm==3.6.0) (2.0.8)\n",
      "Requirement already satisfied: thinc<8.2.0,>=8.1.8 in /home/lyle/tutorial/text-analysis/venv/lib/python3.10/site-packages (from spacy<3.7.0,>=3.6.0->en-core-web-sm==3.6.0) (8.1.12)\n",
      "Requirement already satisfied: murmurhash<1.1.0,>=0.28.0 in /home/lyle/tutorial/text-analysis/venv/lib/python3.10/site-packages (from spacy<3.7.0,>=3.6.0->en-core-web-sm==3.6.0) (1.0.10)\n",
      "Requirement already satisfied: typer<0.10.0,>=0.3.0 in /home/lyle/tutorial/text-analysis/venv/lib/python3.10/site-packages (from spacy<3.7.0,>=3.6.0->en-core-web-sm==3.6.0) (0.9.0)\n",
      "Requirement already satisfied: setuptools in /home/lyle/tutorial/text-analysis/venv/lib/python3.10/site-packages (from spacy<3.7.0,>=3.6.0->en-core-web-sm==3.6.0) (59.6.0)\n",
      "Requirement already satisfied: spacy-legacy<3.1.0,>=3.0.11 in /home/lyle/tutorial/text-analysis/venv/lib/python3.10/site-packages (from spacy<3.7.0,>=3.6.0->en-core-web-sm==3.6.0) (3.0.12)\n",
      "Requirement already satisfied: tqdm<5.0.0,>=4.38.0 in /home/lyle/tutorial/text-analysis/venv/lib/python3.10/site-packages (from spacy<3.7.0,>=3.6.0->en-core-web-sm==3.6.0) (4.66.1)\n",
      "Requirement already satisfied: annotated-types>=0.4.0 in /home/lyle/tutorial/text-analysis/venv/lib/python3.10/site-packages (from pydantic!=1.8,!=1.8.1,<3.0.0,>=1.7.4->spacy<3.7.0,>=3.6.0->en-core-web-sm==3.6.0) (0.5.0)\n",
      "Requirement already satisfied: typing-extensions>=4.6.1 in /home/lyle/tutorial/text-analysis/venv/lib/python3.10/site-packages (from pydantic!=1.8,!=1.8.1,<3.0.0,>=1.7.4->spacy<3.7.0,>=3.6.0->en-core-web-sm==3.6.0) (4.8.0)\n",
      "Requirement already satisfied: pydantic-core==2.6.3 in /home/lyle/tutorial/text-analysis/venv/lib/python3.10/site-packages (from pydantic!=1.8,!=1.8.1,<3.0.0,>=1.7.4->spacy<3.7.0,>=3.6.0->en-core-web-sm==3.6.0) (2.6.3)\n",
      "Requirement already satisfied: urllib3<3,>=1.21.1 in /home/lyle/tutorial/text-analysis/venv/lib/python3.10/site-packages (from requests<3.0.0,>=2.13.0->spacy<3.7.0,>=3.6.0->en-core-web-sm==3.6.0) (2.0.4)\n",
      "Requirement already satisfied: charset-normalizer<4,>=2 in /home/lyle/tutorial/text-analysis/venv/lib/python3.10/site-packages (from requests<3.0.0,>=2.13.0->spacy<3.7.0,>=3.6.0->en-core-web-sm==3.6.0) (3.2.0)\n",
      "Requirement already satisfied: idna<4,>=2.5 in /home/lyle/tutorial/text-analysis/venv/lib/python3.10/site-packages (from requests<3.0.0,>=2.13.0->spacy<3.7.0,>=3.6.0->en-core-web-sm==3.6.0) (3.4)\n",
      "Requirement already satisfied: certifi>=2017.4.17 in /home/lyle/tutorial/text-analysis/venv/lib/python3.10/site-packages (from requests<3.0.0,>=2.13.0->spacy<3.7.0,>=3.6.0->en-core-web-sm==3.6.0) (2023.7.22)\n",
      "Requirement already satisfied: confection<1.0.0,>=0.0.1 in /home/lyle/tutorial/text-analysis/venv/lib/python3.10/site-packages (from thinc<8.2.0,>=8.1.8->spacy<3.7.0,>=3.6.0->en-core-web-sm==3.6.0) (0.1.3)\n",
      "Requirement already satisfied: blis<0.8.0,>=0.7.8 in /home/lyle/tutorial/text-analysis/venv/lib/python3.10/site-packages (from thinc<8.2.0,>=8.1.8->spacy<3.7.0,>=3.6.0->en-core-web-sm==3.6.0) (0.7.10)\n",
      "Requirement already satisfied: click<9.0.0,>=7.1.1 in /home/lyle/tutorial/text-analysis/venv/lib/python3.10/site-packages (from typer<0.10.0,>=0.3.0->spacy<3.7.0,>=3.6.0->en-core-web-sm==3.6.0) (8.1.7)\n",
      "Requirement already satisfied: MarkupSafe>=2.0 in /home/lyle/tutorial/text-analysis/venv/lib/python3.10/site-packages (from jinja2->spacy<3.7.0,>=3.6.0->en-core-web-sm==3.6.0) (2.1.3)\n",
      "Installing collected packages: en-core-web-sm\n",
      "Successfully installed en-core-web-sm-3.6.0\n",
      "\u001b[38;5;2m✔ Download and installation successful\u001b[0m\n",
      "You can now load the package via spacy.load('en_core_web_sm')\n"
     ]
    }
   ],
   "source": [
    "# !python -m spacy download en_core_web_sm"
   ]
  },
  {
   "cell_type": "code",
   "execution_count": 6,
   "id": "7d808e49-7edb-430c-9ee0-0454df3bc3b7",
   "metadata": {},
   "outputs": [],
   "source": [
    "nlp = spacy.load('en_core_web_sm')"
   ]
  },
  {
   "cell_type": "code",
   "execution_count": 7,
   "id": "685dbed4-9c05-4b78-924c-744cab3cc77d",
   "metadata": {},
   "outputs": [],
   "source": [
    "text = \"\"\"\n",
    "We are looking for a data scientist with knowledge of Python and MySQL. \n",
    "The role will involve working with Pandas, scikit-learn, and Spacy.\n",
    "Knowledge of Tensor Flow would be advantageous.\n",
    "\"\"\""
   ]
  },
  {
   "cell_type": "code",
   "execution_count": 9,
   "id": "fca02b70-8a84-4de5-85f4-286bdef0ad91",
   "metadata": {},
   "outputs": [],
   "source": [
    "doc = nlp(text)"
   ]
  },
  {
   "cell_type": "code",
   "execution_count": 10,
   "id": "ac5adcfb-577a-42f7-bc85-eda635fc2ce8",
   "metadata": {},
   "outputs": [
    {
     "data": {
      "text/plain": [
       "[('Pandas', 'ORG'), ('Spacy', 'PERSON')]"
      ]
     },
     "execution_count": 10,
     "metadata": {},
     "output_type": "execute_result"
    }
   ],
   "source": [
    "entities = [(ent.text, ent.label_) for ent in doc.ents]\n",
    "entities"
   ]
  },
  {
   "cell_type": "code",
   "execution_count": 12,
   "id": "02aa8da7-75f1-4a18-92f5-7af807c55399",
   "metadata": {},
   "outputs": [],
   "source": [
    "skills = [\n",
    "    {'label': 'SKILL', 'pattern': [{\"LOWER\": \"python\"}], 'id': 'python'},\n",
    "    {'label': 'SKILL', 'pattern': [{\"LOWER\": \"sql\"}], 'id': 'sql'},\n",
    "    {'label': 'SKILL', 'pattern': [{\"LOWER\": \"mysql\"}], 'id': 'mysql'},\n",
    "    {'label': 'SKILL', 'pattern': [{\"LOWER\": \"pandas\"}], 'id': 'pandas'},\n",
    "    {'label': 'SKILL', 'pattern': [{\"LOWER\": \"spacy\"}], 'id': 'spacy'},\n",
    "    {'label': 'SKILL', 'pattern': [{\"LOWER\": \"scikit-learn\"}], 'id': 'scikit-learn'},\n",
    "    {'label': 'SKILL', 'pattern': [{\"LOWER\": \"scikit\"}, {\"LOWER\": \"learn\"}], 'id': 'scikit-learn'},\n",
    "    {'label': 'SKILL', 'pattern': [{\"LOWER\": \"sklearn\"}], 'id': 'scikit-learn'},\n",
    "    {'label': 'SKILL', 'pattern': [{\"LOWER\": \"tensor\"}, {\"LOWER\": \"flow\"}], 'id': 'tensorflow'},\n",
    "]"
   ]
  },
  {
   "cell_type": "code",
   "execution_count": 13,
   "id": "bb8e6c30-7ce1-4b91-96ec-de6b4f777555",
   "metadata": {},
   "outputs": [],
   "source": [
    "ruler = nlp.add_pipe('entity_ruler', before='ner')\n",
    "ruler.add_patterns(skills)"
   ]
  },
  {
   "cell_type": "code",
   "execution_count": 14,
   "id": "f8bef2b1-4d6a-4c8c-9eaa-95355db32c4f",
   "metadata": {},
   "outputs": [
    {
     "data": {
      "text/plain": [
       "[('Python', 'SKILL', 'python'),\n",
       " ('MySQL', 'SKILL', 'mysql'),\n",
       " ('Pandas', 'SKILL', 'pandas'),\n",
       " ('Spacy', 'SKILL', 'spacy'),\n",
       " ('Tensor Flow', 'SKILL', 'tensorflow')]"
      ]
     },
     "execution_count": 14,
     "metadata": {},
     "output_type": "execute_result"
    }
   ],
   "source": [
    "doc = nlp(text)\n",
    "entities = [(ent.text, ent.label_, ent.ent_id_) for ent in doc.ents]\n",
    "entities"
   ]
  },
  {
   "cell_type": "code",
   "execution_count": null,
   "id": "ff51c46c-75af-4747-935f-54127d954fdb",
   "metadata": {},
   "outputs": [],
   "source": []
  }
 ],
 "metadata": {
  "kernelspec": {
   "display_name": "Python 3 (ipykernel)",
   "language": "python",
   "name": "python3"
  },
  "language_info": {
   "codemirror_mode": {
    "name": "ipython",
    "version": 3
   },
   "file_extension": ".py",
   "mimetype": "text/x-python",
   "name": "python",
   "nbconvert_exporter": "python",
   "pygments_lexer": "ipython3",
   "version": "3.10.12"
  }
 },
 "nbformat": 4,
 "nbformat_minor": 5
}
